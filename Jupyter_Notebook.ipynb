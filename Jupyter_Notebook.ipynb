{
 "cells": [
  {
   "cell_type": "markdown",
   "metadata": {},
   "source": [
    "<center>\n",
    "    <img src=\"https://cf-courses-data.s3.us.cloud-object-storage.appdomain.cloud/IBMDeveloperSkillsNetwork-DS0105EN-SkillsNetwork/labs/Module2/images/SN_web_lightmode.png\" width=\"300\" alt=\"cognitiveclass.ai logo\">\n",
    "</center>\n"
   ]
  },
  {
   "cell_type": "markdown",
   "metadata": {},
   "source": [
    "#### Add your code below following the instructions given in the course\n"
   ]
  },
  {
   "cell_type": "markdown",
   "metadata": {},
   "source": [
    "Exercise 2 - Create a markdown cell with the title of the notebook. (1 pt)"
   ]
  },
  {
   "cell_type": "markdown",
   "metadata": {},
   "source": [
    "the title of the notebook"
   ]
  },
  {
   "cell_type": "markdown",
   "metadata": {},
   "source": [
    "Exercise 3 - Create a markdown cell for an introduction."
   ]
  },
  {
   "cell_type": "markdown",
   "metadata": {},
   "source": [
    "Hello, it's me MARIO."
   ]
  },
  {
   "cell_type": "markdown",
   "metadata": {},
   "source": [
    "Exercise 4 - Create a markdown cell to list data science languages"
   ]
  },
  {
   "cell_type": "markdown",
   "metadata": {
    "tags": []
   },
   "source": [
    "Top programming languages for data scientists in 2023 were: \n",
    "Python \n",
    "R \n",
    "SQL  \n",
    "Java  \n",
    "Julia  \n",
    "Scala  \n",
    "C/C++  \n",
    "JavaScript"
   ]
  },
  {
   "cell_type": "markdown",
   "metadata": {},
   "source": [
    "Exercise 5 - Create a markdown cell to list data science libraries"
   ]
  },
  {
   "cell_type": "markdown",
   "metadata": {},
   "source": [
    "Libraries for Data Science, include: \n",
    "TensorFlow\n",
    "Plotly\n",
    "Scikit-learn\n",
    "Pytorh\n",
    "SciPy \n",
    "NumPy \n",
    "Pandas \n",
    "Matplotlib \n",
    "Keras\n",
    "Seaborn\n",
    "and more."
   ]
  },
  {
   "cell_type": "markdown",
   "metadata": {},
   "source": [
    "Exercise 6 - Create a markdown cell with a table of Data Science tools"
   ]
  },
  {
   "cell_type": "markdown",
   "metadata": {},
   "source": [
    "Tableau\n",
    "KNIME\n",
    "GitHub\n",
    "Natural Language Toolkit (NLTK)\n",
    "and others"
   ]
  },
  {
   "cell_type": "markdown",
   "metadata": {},
   "source": [
    "Exercise 7 - Create a markdown cell introducing arithmetic expression examples"
   ]
  },
  {
   "cell_type": "code",
   "execution_count": 27,
   "metadata": {
    "tags": []
   },
   "outputs": [
    {
     "name": "stdout",
     "output_type": "stream",
     "text": [
      "4\n",
      "9\n",
      "1.0\n",
      "1\n"
     ]
    }
   ],
   "source": [
    "print(2+2)\n",
    "print(3*3)\n",
    "print(3/3)\n",
    "print(3%2)"
   ]
  },
  {
   "cell_type": "markdown",
   "metadata": {},
   "source": [
    "Exercise 8 - Create a code cell to multiply and add numbers"
   ]
  },
  {
   "cell_type": "code",
   "execution_count": 24,
   "metadata": {
    "tags": []
   },
   "outputs": [
    {
     "data": {
      "text/plain": [
       "26"
      ]
     },
     "execution_count": 24,
     "metadata": {},
     "output_type": "execute_result"
    }
   ],
   "source": [
    "MagicNumber=5*5\n",
    "MagicNumber + 1\n",
    "\n"
   ]
  },
  {
   "cell_type": "markdown",
   "metadata": {},
   "source": [
    "Exercise 9 - Create a code cell to convert minutes to hours"
   ]
  },
  {
   "cell_type": "code",
   "execution_count": 17,
   "metadata": {
    "tags": []
   },
   "outputs": [
    {
     "name": "stdin",
     "output_type": "stream",
     "text": [
      "Enter time in minutes 70\n"
     ]
    },
    {
     "name": "stdout",
     "output_type": "stream",
     "text": [
      "Hours= 1\n",
      "Minutes= 10\n"
     ]
    }
   ],
   "source": [
    "min=int(input(\"Enter time in minutes\"))\n",
    "h=min//60\n",
    "m=min%60\n",
    "print(\"Hours=\",h)\n",
    "print(\"Minutes=\",m)"
   ]
  },
  {
   "cell_type": "markdown",
   "metadata": {},
   "source": [
    "Exercise 10 -Insert a markdown cell to list Objectives"
   ]
  },
  {
   "cell_type": "markdown",
   "metadata": {},
   "source": [
    "Exercise 2 - Create a markdown cell with the title of the notebook. (1 pt)\n",
    "\n",
    "Exercise 3 - Create a markdown cell for an introduction. (1 pt)\n",
    "\n",
    "Exercise 4 - Create a markdown cell to list data science languages. (3 pts)\n",
    "\n",
    "Exercise 5 - Create a markdown cell to list data science libraries. (3 pts)\n",
    "\n",
    "Exercise 6 - Create a markdown cell with a table of Data Science tools. (3 pts)\n",
    "\n",
    "Exercise 7 - Create a markdown cell introducing arithmetic expression examples. (1 pt)\n",
    "\n",
    "Exercise 8 - Create a code cell to multiply and add numbers. (2 pts)\n",
    "\n",
    "Exercise 9 - Create a code cell to convert minutes to hours. (2 pts)\n",
    "\n",
    "Exercise 10 -Insert a markdown cell to list Objectives. (3 pts)\n",
    "\n",
    "Exercise 11 - Create a markdown cell to indicate the Author’s name. (2 pts)\n",
    "\n",
    "Exercise 12 - Share your notebook through GitHub (3 pts)\n",
    "\n",
    "Exercise 13 - Take a screenshot of the first page of the notebook. (1 pt)"
   ]
  },
  {
   "cell_type": "markdown",
   "metadata": {},
   "source": [
    "Exercise 11 - Create a markdown cell to indicate the Author’s name."
   ]
  },
  {
   "cell_type": "code",
   "execution_count": null,
   "metadata": {},
   "outputs": [],
   "source": [
    "Jonatan Saul Cruz"
   ]
  },
  {
   "cell_type": "markdown",
   "metadata": {},
   "source": [
    "Exercise 12 - Share your notebook through GitHub"
   ]
  },
  {
   "cell_type": "code",
   "execution_count": null,
   "metadata": {},
   "outputs": [],
   "source": []
  },
  {
   "cell_type": "markdown",
   "metadata": {},
   "source": [
    "Exercise 13 - Take a screenshot of the first page of the notebook"
   ]
  }
 ],
 "metadata": {
  "kernelspec": {
   "display_name": "Python",
   "language": "python",
   "name": "conda-env-python-py"
  },
  "language_info": {
   "codemirror_mode": {
    "name": "ipython",
    "version": 3
   },
   "file_extension": ".py",
   "mimetype": "text/x-python",
   "name": "python",
   "nbconvert_exporter": "python",
   "pygments_lexer": "ipython3",
   "version": "3.7.12"
  }
 },
 "nbformat": 4,
 "nbformat_minor": 4
}
